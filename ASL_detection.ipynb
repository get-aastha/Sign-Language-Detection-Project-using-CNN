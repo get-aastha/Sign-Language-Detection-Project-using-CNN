{
  "cells": [
    {
      "cell_type": "markdown",
      "metadata": {},
      "source": [
        "ASL Detection using CNN\n",
        "\n",
        "Made by Aastha Kumar\n",
        "LinkedIn : linkedin.com/in/aasthakumar0310\n",
        "Instagram : @gxxd_vibz_only"
      ]
    },
    {
      "cell_type": "code",
      "execution_count": 2,
      "metadata": {
        "colab": {
          "base_uri": "https://localhost:8080/"
        },
        "id": "0rqL1cR8vsfd",
        "outputId": "5026be8e-91da-42d6-fc15-3adf8d7575ac"
      },
      "outputs": [
        {
          "name": "stdout",
          "output_type": "stream",
          "text": [
            "fatal: destination path 'aslsigndataset' already exists and is not an empty directory.\n"
          ]
        }
      ],
      "source": [
        "!git clone https://github.com/kumarvivek9088/aslsigndataset.git"
      ]
    },
    {
      "cell_type": "code",
      "execution_count": 3,
      "metadata": {
        "id": "T71l5c7uxfPe"
      },
      "outputs": [],
      "source": [
        "from keras.utils import to_categorical\n",
        "from keras.models import Sequential\n",
        "from keras.layers import Dense, Conv2D, Dropout, Flatten, MaxPooling2D\n",
        "from keras.preprocessing.image import ImageDataGenerator\n",
        "from keras.callbacks import TensorBoard\n",
        "import os"
      ]
    },
    {
      "cell_type": "code",
      "execution_count": 4,
      "metadata": {
        "colab": {
          "base_uri": "https://localhost:8080/"
        },
        "id": "wjuG7h6ixmCm",
        "outputId": "0e3edca7-1576-45f0-e6b7-d80a006fa87b"
      },
      "outputs": [
        {
          "name": "stdout",
          "output_type": "stream",
          "text": [
            "Found 1473 images belonging to 6 classes.\n",
            "Found 372 images belonging to 6 classes.\n"
          ]
        }
      ],
      "source": [
        "train_datagen = ImageDataGenerator(\n",
        "    rescale=1./255,\n",
        ")\n",
        "\n",
        "val_datagen = ImageDataGenerator(rescale=1./255)\n",
        "\n",
        "batch_size = 128\n",
        "\n",
        "train_generator = train_datagen.flow_from_directory(\n",
        "    '/content/aslsigndataset/splitdataset48x48/train',\n",
        "    target_size=(48, 48),\n",
        "    batch_size=batch_size,\n",
        "    class_mode='categorical',\n",
        "    color_mode='grayscale'\n",
        ")\n",
        "\n",
        "validation_generator = val_datagen.flow_from_directory(\n",
        "    '/content/aslsigndataset/splitdataset48x48/val',\n",
        "    target_size=(48, 48),\n",
        "    batch_size=batch_size,\n",
        "    class_mode='categorical',\n",
        "    color_mode='grayscale'\n",
        ")"
      ]
    },
    {
      "cell_type": "code",
      "execution_count": 5,
      "metadata": {
        "colab": {
          "base_uri": "https://localhost:8080/"
        },
        "id": "jPMmguiMxqMt",
        "outputId": "30512735-e34d-4f76-f3eb-4066e9291558"
      },
      "outputs": [
        {
          "name": "stdout",
          "output_type": "stream",
          "text": [
            "['A', 'M', 'N', 'S', 'T', 'blank']\n"
          ]
        }
      ],
      "source": [
        "class_names = list(train_generator.class_indices.keys())\n",
        "print(class_names)"
      ]
    },
    {
      "cell_type": "code",
      "execution_count": 6,
      "metadata": {
        "id": "HbcwWvS1xq3y"
      },
      "outputs": [],
      "source": [
        "model = Sequential()\n",
        "# convolutional layers\n",
        "model.add(Conv2D(128, kernel_size=(3,3), activation='relu', input_shape=(48,48,1)))\n",
        "model.add(MaxPooling2D(pool_size=(2,2)))\n",
        "model.add(Dropout(0.4))\n",
        "\n",
        "model.add(Conv2D(256, kernel_size=(3,3), activation='relu'))\n",
        "model.add(MaxPooling2D(pool_size=(2,2)))\n",
        "model.add(Dropout(0.4))\n",
        "\n",
        "model.add(Conv2D(512, kernel_size=(3,3), activation='relu'))\n",
        "model.add(MaxPooling2D(pool_size=(2,2)))\n",
        "model.add(Dropout(0.4))\n",
        "\n",
        "model.add(Conv2D(512, kernel_size=(3,3), activation='relu'))\n",
        "model.add(MaxPooling2D(pool_size=(2,2)))\n",
        "model.add(Dropout(0.4))\n",
        "\n",
        "model.add(Flatten())\n",
        "# fully connected layers\n",
        "model.add(Dense(512, activation='relu'))\n",
        "model.add(Dropout(0.4))\n",
        "model.add(Dense(64, activation='relu'))\n",
        "model.add(Dropout(0.2))\n",
        "model.add(Dense(256, activation='relu'))\n",
        "model.add(Dropout(0.3))\n",
        "model.add(Dense(64, activation='relu'))\n",
        "model.add(Dropout(0.2))\n",
        "model.add(Dense(256, activation='relu'))\n",
        "model.add(Dropout(0.3))\n",
        "# output layer\n",
        "model.add(Dense(6, activation='softmax'))"
      ]
    },
    {
      "cell_type": "code",
      "execution_count": 7,
      "metadata": {
        "colab": {
          "base_uri": "https://localhost:8080/"
        },
        "id": "MgYC2P67xuGL",
        "outputId": "bc6af6c6-5cbb-4d3f-8d80-425906d942fe"
      },
      "outputs": [
        {
          "name": "stdout",
          "output_type": "stream",
          "text": [
            "Model: \"sequential\"\n",
            "_________________________________________________________________\n",
            " Layer (type)                Output Shape              Param #   \n",
            "=================================================================\n",
            " conv2d (Conv2D)             (None, 46, 46, 128)       1280      \n",
            "                                                                 \n",
            " max_pooling2d (MaxPooling2  (None, 23, 23, 128)       0         \n",
            " D)                                                              \n",
            "                                                                 \n",
            " dropout (Dropout)           (None, 23, 23, 128)       0         \n",
            "                                                                 \n",
            " conv2d_1 (Conv2D)           (None, 21, 21, 256)       295168    \n",
            "                                                                 \n",
            " max_pooling2d_1 (MaxPoolin  (None, 10, 10, 256)       0         \n",
            " g2D)                                                            \n",
            "                                                                 \n",
            " dropout_1 (Dropout)         (None, 10, 10, 256)       0         \n",
            "                                                                 \n",
            " conv2d_2 (Conv2D)           (None, 8, 8, 512)         1180160   \n",
            "                                                                 \n",
            " max_pooling2d_2 (MaxPoolin  (None, 4, 4, 512)         0         \n",
            " g2D)                                                            \n",
            "                                                                 \n",
            " dropout_2 (Dropout)         (None, 4, 4, 512)         0         \n",
            "                                                                 \n",
            " conv2d_3 (Conv2D)           (None, 2, 2, 512)         2359808   \n",
            "                                                                 \n",
            " max_pooling2d_3 (MaxPoolin  (None, 1, 1, 512)         0         \n",
            " g2D)                                                            \n",
            "                                                                 \n",
            " dropout_3 (Dropout)         (None, 1, 1, 512)         0         \n",
            "                                                                 \n",
            " flatten (Flatten)           (None, 512)               0         \n",
            "                                                                 \n",
            " dense (Dense)               (None, 512)               262656    \n",
            "                                                                 \n",
            " dropout_4 (Dropout)         (None, 512)               0         \n",
            "                                                                 \n",
            " dense_1 (Dense)             (None, 64)                32832     \n",
            "                                                                 \n",
            " dropout_5 (Dropout)         (None, 64)                0         \n",
            "                                                                 \n",
            " dense_2 (Dense)             (None, 256)               16640     \n",
            "                                                                 \n",
            " dropout_6 (Dropout)         (None, 256)               0         \n",
            "                                                                 \n",
            " dense_3 (Dense)             (None, 64)                16448     \n",
            "                                                                 \n",
            " dropout_7 (Dropout)         (None, 64)                0         \n",
            "                                                                 \n",
            " dense_4 (Dense)             (None, 256)               16640     \n",
            "                                                                 \n",
            " dropout_8 (Dropout)         (None, 256)               0         \n",
            "                                                                 \n",
            " dense_5 (Dense)             (None, 6)                 1542      \n",
            "                                                                 \n",
            "=================================================================\n",
            "Total params: 4183174 (15.96 MB)\n",
            "Trainable params: 4183174 (15.96 MB)\n",
            "Non-trainable params: 0 (0.00 Byte)\n",
            "_________________________________________________________________\n"
          ]
        }
      ],
      "source": [
        "model.summary()"
      ]
    },
    {
      "cell_type": "code",
      "execution_count": 8,
      "metadata": {
        "id": "UAVWtDSQxwyT"
      },
      "outputs": [],
      "source": [
        "model.compile(optimizer = 'adam', loss = 'categorical_crossentropy', metrics = 'accuracy' )"
      ]
    },
    {
      "cell_type": "code",
      "execution_count": 9,
      "metadata": {
        "id": "AQhDkZ-PxzEb"
      },
      "outputs": [],
      "source": [
        "!rm -rf Logs\n",
        "logdir = os.path.join(\"Logs\")\n",
        "tensorboard_callback = TensorBoard(log_dir=logdir)"
      ]
    },
    {
      "cell_type": "code",
      "execution_count": 10,
      "metadata": {
        "colab": {
          "base_uri": "https://localhost:8080/",
          "height": 1000
        },
        "id": "b6jRy_DQx1MT",
        "outputId": "c2e4d917-8f2b-425d-907f-be2060c859f9"
      },
      "outputs": [
        {
          "name": "stdout",
          "output_type": "stream",
          "text": [
            "Epoch 1/100\n",
            "11/11 [==============================] - 78s 7s/step - loss: 1.7924 - accuracy: 0.1792 - val_loss: 1.7891 - val_accuracy: 0.1992\n",
            "Epoch 2/100\n",
            "11/11 [==============================] - 77s 7s/step - loss: 1.7864 - accuracy: 0.2216 - val_loss: 1.7833 - val_accuracy: 0.2070\n",
            "Epoch 3/100\n",
            "11/11 [==============================] - 72s 7s/step - loss: 1.7831 - accuracy: 0.1911 - val_loss: 1.7831 - val_accuracy: 0.1797\n",
            "Epoch 4/100\n",
            "11/11 [==============================] - 75s 7s/step - loss: 1.7748 - accuracy: 0.2015 - val_loss: 1.7504 - val_accuracy: 0.2734\n",
            "Epoch 5/100\n",
            "11/11 [==============================] - 73s 7s/step - loss: 1.7391 - accuracy: 0.2312 - val_loss: 1.6379 - val_accuracy: 0.2773\n",
            "Epoch 6/100\n",
            "11/11 [==============================] - 73s 7s/step - loss: 1.7036 - accuracy: 0.2342 - val_loss: 1.6744 - val_accuracy: 0.2891\n",
            "Epoch 7/100\n",
            "11/11 [==============================] - 75s 7s/step - loss: 1.6236 - accuracy: 0.2721 - val_loss: 1.5771 - val_accuracy: 0.3086\n",
            "Epoch 8/100\n",
            "11/11 [==============================] - 74s 7s/step - loss: 1.5871 - accuracy: 0.2900 - val_loss: 1.5627 - val_accuracy: 0.2852\n",
            "Epoch 9/100\n",
            "11/11 [==============================] - 77s 7s/step - loss: 1.5437 - accuracy: 0.3026 - val_loss: 1.4885 - val_accuracy: 0.2969\n",
            "Epoch 10/100\n",
            "11/11 [==============================] - 73s 7s/step - loss: 1.5676 - accuracy: 0.2914 - val_loss: 1.5928 - val_accuracy: 0.2891\n",
            "Epoch 11/100\n",
            "11/11 [==============================] - 72s 7s/step - loss: 1.4952 - accuracy: 0.3190 - val_loss: 1.3788 - val_accuracy: 0.3203\n",
            "Epoch 12/100\n",
            "11/11 [==============================] - 76s 7s/step - loss: 1.4669 - accuracy: 0.3152 - val_loss: 1.3979 - val_accuracy: 0.3438\n",
            "Epoch 13/100\n",
            "11/11 [==============================] - 80s 7s/step - loss: 1.4381 - accuracy: 0.3472 - val_loss: 1.3453 - val_accuracy: 0.4102\n",
            "Epoch 14/100\n",
            "11/11 [==============================] - 69s 7s/step - loss: 1.3758 - accuracy: 0.3896 - val_loss: 1.2807 - val_accuracy: 0.4727\n",
            "Epoch 15/100\n",
            "11/11 [==============================] - 74s 7s/step - loss: 1.3527 - accuracy: 0.3911 - val_loss: 1.2386 - val_accuracy: 0.4961\n",
            "Epoch 16/100\n",
            "11/11 [==============================] - 75s 7s/step - loss: 1.2843 - accuracy: 0.4297 - val_loss: 1.1793 - val_accuracy: 0.4922\n",
            "Epoch 17/100\n",
            "11/11 [==============================] - 74s 7s/step - loss: 1.2698 - accuracy: 0.4283 - val_loss: 1.1781 - val_accuracy: 0.4688\n",
            "Epoch 18/100\n",
            "11/11 [==============================] - 76s 7s/step - loss: 1.1778 - accuracy: 0.4736 - val_loss: 1.0809 - val_accuracy: 0.5156\n",
            "Epoch 19/100\n",
            "11/11 [==============================] - 75s 7s/step - loss: 1.0899 - accuracy: 0.5204 - val_loss: 0.9399 - val_accuracy: 0.5859\n",
            "Epoch 20/100\n",
            "11/11 [==============================] - 74s 7s/step - loss: 1.0101 - accuracy: 0.5688 - val_loss: 0.9513 - val_accuracy: 0.5938\n",
            "Epoch 21/100\n",
            "11/11 [==============================] - 76s 7s/step - loss: 0.9719 - accuracy: 0.5665 - val_loss: 0.8547 - val_accuracy: 0.5820\n",
            "Epoch 22/100\n",
            "11/11 [==============================] - 75s 7s/step - loss: 0.8965 - accuracy: 0.6000 - val_loss: 0.7936 - val_accuracy: 0.6367\n",
            "Epoch 23/100\n",
            "11/11 [==============================] - 75s 7s/step - loss: 0.8064 - accuracy: 0.6483 - val_loss: 0.6506 - val_accuracy: 0.7031\n",
            "Epoch 24/100\n",
            "11/11 [==============================] - 73s 7s/step - loss: 0.7515 - accuracy: 0.6870 - val_loss: 0.6211 - val_accuracy: 0.7227\n",
            "Epoch 25/100\n",
            "11/11 [==============================] - 76s 7s/step - loss: 0.7513 - accuracy: 0.6733 - val_loss: 0.5922 - val_accuracy: 0.7305\n",
            "Epoch 26/100\n",
            "11/11 [==============================] - 71s 7s/step - loss: 0.6546 - accuracy: 0.7316 - val_loss: 0.4985 - val_accuracy: 0.7734\n",
            "Epoch 27/100\n",
            "11/11 [==============================] - 77s 7s/step - loss: 0.5761 - accuracy: 0.7571 - val_loss: 0.3865 - val_accuracy: 0.8438\n",
            "Epoch 28/100\n",
            "11/11 [==============================] - 74s 7s/step - loss: 0.4714 - accuracy: 0.8178 - val_loss: 0.3228 - val_accuracy: 0.8555\n",
            "Epoch 29/100\n",
            "11/11 [==============================] - 73s 7s/step - loss: 0.4314 - accuracy: 0.8216 - val_loss: 0.3674 - val_accuracy: 0.8125\n",
            "Epoch 30/100\n",
            "11/11 [==============================] - 72s 6s/step - loss: 0.5167 - accuracy: 0.8015 - val_loss: 0.3712 - val_accuracy: 0.8203\n",
            "Epoch 31/100\n",
            "11/11 [==============================] - 73s 7s/step - loss: 0.3915 - accuracy: 0.8530 - val_loss: 0.2835 - val_accuracy: 0.8906\n",
            "Epoch 32/100\n",
            "11/11 [==============================] - 76s 7s/step - loss: 0.3234 - accuracy: 0.8848 - val_loss: 0.2248 - val_accuracy: 0.9062\n",
            "Epoch 33/100\n",
            "11/11 [==============================] - 71s 6s/step - loss: 0.2551 - accuracy: 0.8981 - val_loss: 0.1999 - val_accuracy: 0.9180\n",
            "Epoch 34/100\n",
            "11/11 [==============================] - 75s 7s/step - loss: 0.2606 - accuracy: 0.9078 - val_loss: 0.2107 - val_accuracy: 0.9102\n",
            "Epoch 35/100\n",
            "11/11 [==============================] - 73s 7s/step - loss: 0.2553 - accuracy: 0.9123 - val_loss: 0.2448 - val_accuracy: 0.8828\n",
            "Epoch 36/100\n",
            "11/11 [==============================] - 72s 7s/step - loss: 0.2228 - accuracy: 0.9190 - val_loss: 0.1647 - val_accuracy: 0.9336\n",
            "Epoch 37/100\n",
            "11/11 [==============================] - 73s 7s/step - loss: 0.2116 - accuracy: 0.9249 - val_loss: 0.1537 - val_accuracy: 0.9414\n",
            "Epoch 38/100\n",
            "11/11 [==============================] - 75s 7s/step - loss: 0.2009 - accuracy: 0.9368 - val_loss: 0.1993 - val_accuracy: 0.9336\n",
            "Epoch 39/100\n",
            "11/11 [==============================] - 75s 7s/step - loss: 0.2120 - accuracy: 0.9286 - val_loss: 0.1867 - val_accuracy: 0.9219\n",
            "Epoch 40/100\n",
            "11/11 [==============================] - 75s 7s/step - loss: 0.2093 - accuracy: 0.9294 - val_loss: 0.2115 - val_accuracy: 0.9219\n",
            "Epoch 41/100\n",
            "11/11 [==============================] - 75s 7s/step - loss: 0.1709 - accuracy: 0.9390 - val_loss: 0.1525 - val_accuracy: 0.9375\n",
            "Epoch 42/100\n",
            "11/11 [==============================] - 78s 7s/step - loss: 0.1555 - accuracy: 0.9503 - val_loss: 0.1203 - val_accuracy: 0.9531\n",
            "Epoch 43/100\n",
            "11/11 [==============================] - 74s 7s/step - loss: 0.1689 - accuracy: 0.9472 - val_loss: 0.1155 - val_accuracy: 0.9531\n",
            "Epoch 44/100\n",
            "11/11 [==============================] - 74s 7s/step - loss: 0.1492 - accuracy: 0.9546 - val_loss: 0.1382 - val_accuracy: 0.9492\n",
            "Epoch 45/100\n",
            "11/11 [==============================] - 76s 7s/step - loss: 0.1467 - accuracy: 0.9502 - val_loss: 0.0816 - val_accuracy: 0.9727\n",
            "Epoch 46/100\n",
            "11/11 [==============================] - 76s 7s/step - loss: 0.1533 - accuracy: 0.9482 - val_loss: 0.1565 - val_accuracy: 0.9414\n",
            "Epoch 47/100\n",
            "11/11 [==============================] - 73s 7s/step - loss: 0.1058 - accuracy: 0.9680 - val_loss: 0.0829 - val_accuracy: 0.9727\n",
            "Epoch 48/100\n",
            "11/11 [==============================] - 78s 7s/step - loss: 0.1261 - accuracy: 0.9576 - val_loss: 0.1535 - val_accuracy: 0.9375\n",
            "Epoch 49/100\n",
            "11/11 [==============================] - 76s 7s/step - loss: 0.1058 - accuracy: 0.9651 - val_loss: 0.1252 - val_accuracy: 0.9531\n",
            "Epoch 50/100\n",
            "11/11 [==============================] - 74s 7s/step - loss: 0.0852 - accuracy: 0.9747 - val_loss: 0.0972 - val_accuracy: 0.9648\n",
            "Epoch 51/100\n",
            "11/11 [==============================] - 75s 7s/step - loss: 0.1091 - accuracy: 0.9658 - val_loss: 0.0764 - val_accuracy: 0.9648\n",
            "Epoch 52/100\n",
            "11/11 [==============================] - 71s 7s/step - loss: 0.0960 - accuracy: 0.9688 - val_loss: 0.0707 - val_accuracy: 0.9766\n",
            "Epoch 53/100\n",
            "11/11 [==============================] - 73s 7s/step - loss: 0.0809 - accuracy: 0.9762 - val_loss: 0.0806 - val_accuracy: 0.9766\n",
            "Epoch 54/100\n",
            "11/11 [==============================] - 76s 7s/step - loss: 0.1050 - accuracy: 0.9695 - val_loss: 0.1043 - val_accuracy: 0.9648\n",
            "Epoch 55/100\n",
            "11/11 [==============================] - 76s 7s/step - loss: 0.0987 - accuracy: 0.9725 - val_loss: 0.1126 - val_accuracy: 0.9609\n",
            "Epoch 56/100\n",
            "11/11 [==============================] - 74s 7s/step - loss: 0.1010 - accuracy: 0.9695 - val_loss: 0.1103 - val_accuracy: 0.9570\n",
            "Epoch 57/100\n",
            "11/11 [==============================] - 72s 7s/step - loss: 0.0617 - accuracy: 0.9799 - val_loss: 0.0706 - val_accuracy: 0.9766\n",
            "Epoch 58/100\n",
            "11/11 [==============================] - 75s 7s/step - loss: 0.0542 - accuracy: 0.9858 - val_loss: 0.0995 - val_accuracy: 0.9609\n",
            "Epoch 59/100\n",
            "11/11 [==============================] - 71s 6s/step - loss: 0.0503 - accuracy: 0.9836 - val_loss: 0.0963 - val_accuracy: 0.9531\n",
            "Epoch 60/100\n",
            "11/11 [==============================] - 75s 7s/step - loss: 0.0445 - accuracy: 0.9837 - val_loss: 0.1135 - val_accuracy: 0.9648\n",
            "Epoch 61/100\n",
            "11/11 [==============================] - 75s 7s/step - loss: 0.0478 - accuracy: 0.9844 - val_loss: 0.0536 - val_accuracy: 0.9844\n"
          ]
        },
        {
          "ename": "KeyboardInterrupt",
          "evalue": "",
          "output_type": "error",
          "traceback": [
            "\u001b[0;31m---------------------------------------------------------------------------\u001b[0m",
            "\u001b[0;31mKeyboardInterrupt\u001b[0m                         Traceback (most recent call last)",
            "\u001b[0;32m<ipython-input-10-c58213c7c5ad>\u001b[0m in \u001b[0;36m<cell line: 1>\u001b[0;34m()\u001b[0m\n\u001b[0;32m----> 1\u001b[0;31m model.fit(\n\u001b[0m\u001b[1;32m      2\u001b[0m     \u001b[0mtrain_generator\u001b[0m\u001b[0;34m,\u001b[0m\u001b[0;34m\u001b[0m\u001b[0;34m\u001b[0m\u001b[0m\n\u001b[1;32m      3\u001b[0m     \u001b[0msteps_per_epoch\u001b[0m\u001b[0;34m=\u001b[0m\u001b[0mtrain_generator\u001b[0m\u001b[0;34m.\u001b[0m\u001b[0msamples\u001b[0m \u001b[0;34m//\u001b[0m \u001b[0mbatch_size\u001b[0m\u001b[0;34m,\u001b[0m\u001b[0;34m\u001b[0m\u001b[0;34m\u001b[0m\u001b[0m\n\u001b[1;32m      4\u001b[0m     \u001b[0mepochs\u001b[0m\u001b[0;34m=\u001b[0m\u001b[0;36m100\u001b[0m\u001b[0;34m,\u001b[0m\u001b[0;34m\u001b[0m\u001b[0;34m\u001b[0m\u001b[0m\n\u001b[1;32m      5\u001b[0m     \u001b[0mvalidation_data\u001b[0m\u001b[0;34m=\u001b[0m\u001b[0mvalidation_generator\u001b[0m\u001b[0;34m,\u001b[0m\u001b[0;34m\u001b[0m\u001b[0;34m\u001b[0m\u001b[0m\n",
            "\u001b[0;32m/usr/local/lib/python3.10/dist-packages/keras/src/utils/traceback_utils.py\u001b[0m in \u001b[0;36merror_handler\u001b[0;34m(*args, **kwargs)\u001b[0m\n\u001b[1;32m     63\u001b[0m         \u001b[0mfiltered_tb\u001b[0m \u001b[0;34m=\u001b[0m \u001b[0;32mNone\u001b[0m\u001b[0;34m\u001b[0m\u001b[0;34m\u001b[0m\u001b[0m\n\u001b[1;32m     64\u001b[0m         \u001b[0;32mtry\u001b[0m\u001b[0;34m:\u001b[0m\u001b[0;34m\u001b[0m\u001b[0;34m\u001b[0m\u001b[0m\n\u001b[0;32m---> 65\u001b[0;31m             \u001b[0;32mreturn\u001b[0m \u001b[0mfn\u001b[0m\u001b[0;34m(\u001b[0m\u001b[0;34m*\u001b[0m\u001b[0margs\u001b[0m\u001b[0;34m,\u001b[0m \u001b[0;34m**\u001b[0m\u001b[0mkwargs\u001b[0m\u001b[0;34m)\u001b[0m\u001b[0;34m\u001b[0m\u001b[0;34m\u001b[0m\u001b[0m\n\u001b[0m\u001b[1;32m     66\u001b[0m         \u001b[0;32mexcept\u001b[0m \u001b[0mException\u001b[0m \u001b[0;32mas\u001b[0m \u001b[0me\u001b[0m\u001b[0;34m:\u001b[0m\u001b[0;34m\u001b[0m\u001b[0;34m\u001b[0m\u001b[0m\n\u001b[1;32m     67\u001b[0m             \u001b[0mfiltered_tb\u001b[0m \u001b[0;34m=\u001b[0m \u001b[0m_process_traceback_frames\u001b[0m\u001b[0;34m(\u001b[0m\u001b[0me\u001b[0m\u001b[0;34m.\u001b[0m\u001b[0m__traceback__\u001b[0m\u001b[0;34m)\u001b[0m\u001b[0;34m\u001b[0m\u001b[0;34m\u001b[0m\u001b[0m\n",
            "\u001b[0;32m/usr/local/lib/python3.10/dist-packages/keras/src/engine/training.py\u001b[0m in \u001b[0;36mfit\u001b[0;34m(self, x, y, batch_size, epochs, verbose, callbacks, validation_split, validation_data, shuffle, class_weight, sample_weight, initial_epoch, steps_per_epoch, validation_steps, validation_batch_size, validation_freq, max_queue_size, workers, use_multiprocessing)\u001b[0m\n\u001b[1;32m   1793\u001b[0m             \u001b[0mlogs\u001b[0m \u001b[0;34m=\u001b[0m \u001b[0;32mNone\u001b[0m\u001b[0;34m\u001b[0m\u001b[0;34m\u001b[0m\u001b[0m\n\u001b[1;32m   1794\u001b[0m             \u001b[0;32mfor\u001b[0m \u001b[0mepoch\u001b[0m\u001b[0;34m,\u001b[0m \u001b[0miterator\u001b[0m \u001b[0;32min\u001b[0m \u001b[0mdata_handler\u001b[0m\u001b[0;34m.\u001b[0m\u001b[0menumerate_epochs\u001b[0m\u001b[0;34m(\u001b[0m\u001b[0;34m)\u001b[0m\u001b[0;34m:\u001b[0m\u001b[0;34m\u001b[0m\u001b[0;34m\u001b[0m\u001b[0m\n\u001b[0;32m-> 1795\u001b[0;31m                 \u001b[0mself\u001b[0m\u001b[0;34m.\u001b[0m\u001b[0mreset_metrics\u001b[0m\u001b[0;34m(\u001b[0m\u001b[0;34m)\u001b[0m\u001b[0;34m\u001b[0m\u001b[0;34m\u001b[0m\u001b[0m\n\u001b[0m\u001b[1;32m   1796\u001b[0m                 \u001b[0mcallbacks\u001b[0m\u001b[0;34m.\u001b[0m\u001b[0mon_epoch_begin\u001b[0m\u001b[0;34m(\u001b[0m\u001b[0mepoch\u001b[0m\u001b[0;34m)\u001b[0m\u001b[0;34m\u001b[0m\u001b[0;34m\u001b[0m\u001b[0m\n\u001b[1;32m   1797\u001b[0m                 \u001b[0;32mwith\u001b[0m \u001b[0mdata_handler\u001b[0m\u001b[0;34m.\u001b[0m\u001b[0mcatch_stop_iteration\u001b[0m\u001b[0;34m(\u001b[0m\u001b[0;34m)\u001b[0m\u001b[0;34m:\u001b[0m\u001b[0;34m\u001b[0m\u001b[0;34m\u001b[0m\u001b[0m\n",
            "\u001b[0;32m/usr/local/lib/python3.10/dist-packages/keras/src/engine/training.py\u001b[0m in \u001b[0;36mreset_metrics\u001b[0;34m(self)\u001b[0m\n\u001b[1;32m   2701\u001b[0m         \u001b[0;32mreturn\u001b[0m \u001b[0mtf_utils\u001b[0m\u001b[0;34m.\u001b[0m\u001b[0msync_to_numpy_or_python_type\u001b[0m\u001b[0;34m(\u001b[0m\u001b[0mall_outputs\u001b[0m\u001b[0;34m)\u001b[0m\u001b[0;34m\u001b[0m\u001b[0;34m\u001b[0m\u001b[0m\n\u001b[1;32m   2702\u001b[0m \u001b[0;34m\u001b[0m\u001b[0m\n\u001b[0;32m-> 2703\u001b[0;31m     \u001b[0;32mdef\u001b[0m \u001b[0mreset_metrics\u001b[0m\u001b[0;34m(\u001b[0m\u001b[0mself\u001b[0m\u001b[0;34m)\u001b[0m\u001b[0;34m:\u001b[0m\u001b[0;34m\u001b[0m\u001b[0;34m\u001b[0m\u001b[0m\n\u001b[0m\u001b[1;32m   2704\u001b[0m         \"\"\"Resets the state of all the metrics in the model.\n\u001b[1;32m   2705\u001b[0m \u001b[0;34m\u001b[0m\u001b[0m\n",
            "\u001b[0;31mKeyboardInterrupt\u001b[0m: "
          ]
        }
      ],
      "source": [
        "model.fit(\n",
        "    train_generator,\n",
        "    steps_per_epoch=train_generator.samples // batch_size,\n",
        "    epochs=100,\n",
        "    validation_data=validation_generator,\n",
        "    validation_steps=validation_generator.samples // batch_size,\n",
        "    callbacks=[tensorboard_callback]\n",
        ")"
      ]
    },
    {
      "cell_type": "code",
      "execution_count": 13,
      "metadata": {
        "colab": {
          "base_uri": "https://localhost:8080/",
          "height": 838
        },
        "id": "GctK7L5PyEeV",
        "outputId": "86bc7578-1504-4c27-9d85-c620dad997b2"
      },
      "outputs": [
        {
          "data": {
            "text/plain": [
              "Reusing TensorBoard on port 6006 (pid 28756), started 0:00:25 ago. (Use '!kill 28756' to kill it.)"
            ]
          },
          "metadata": {},
          "output_type": "display_data"
        },
        {
          "data": {
            "application/javascript": "\n        (async () => {\n            const url = new URL(await google.colab.kernel.proxyPort(6006, {'cache': true}));\n            url.searchParams.set('tensorboardColab', 'true');\n            const iframe = document.createElement('iframe');\n            iframe.src = url;\n            iframe.setAttribute('width', '100%');\n            iframe.setAttribute('height', '800');\n            iframe.setAttribute('frameborder', 0);\n            document.body.appendChild(iframe);\n        })();\n    ",
            "text/plain": [
              "<IPython.core.display.Javascript object>"
            ]
          },
          "metadata": {},
          "output_type": "display_data"
        }
      ],
      "source": [
        "%load_ext tensorboard\n",
        "%tensorboard --logdir Logs"
      ]
    },
    {
      "cell_type": "code",
      "execution_count": 15,
      "metadata": {
        "colab": {
          "base_uri": "https://localhost:8080/"
        },
        "id": "CccFOYtS7KfG",
        "outputId": "30cc27b2-2044-4815-af4a-30ca0fb38e54"
      },
      "outputs": [
        {
          "name": "stderr",
          "output_type": "stream",
          "text": [
            "/usr/local/lib/python3.10/dist-packages/keras/src/engine/training.py:3103: UserWarning: You are saving your model as an HDF5 file via `model.save()`. This file format is considered legacy. We recommend using instead the native Keras format, e.g. `model.save('my_model.keras')`.\n",
            "  saving_api.save_model(\n"
          ]
        }
      ],
      "source": [
        "model_json = model.to_json()\n",
        "with open(\"/content/drive/MyDrive/signlanguagedetectionmodel48x48.json\",'w') as json_file:\n",
        "    json_file.write(model_json)\n",
        "model.save(\"/content/drive/MyDrive/signlanguagedetectionmodel48x48.h5\")"
      ]
    }
  ],
  "metadata": {
    "colab": {
      "provenance": []
    },
    "kernelspec": {
      "display_name": "Python 3",
      "name": "python3"
    },
    "language_info": {
      "name": "python"
    }
  },
  "nbformat": 4,
  "nbformat_minor": 0
}
